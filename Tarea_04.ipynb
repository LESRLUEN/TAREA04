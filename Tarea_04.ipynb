{
  "nbformat": 4,
  "nbformat_minor": 0,
  "metadata": {
    "colab": {
      "name": "Tarea_04.ipynb",
      "provenance": [],
      "authorship_tag": "ABX9TyMWdi6ZepeEMkd6EczMc80F",
      "include_colab_link": true
    },
    "kernelspec": {
      "name": "python3",
      "display_name": "Python 3"
    },
    "language_info": {
      "name": "python"
    }
  },
  "cells": [
    {
      "cell_type": "markdown",
      "metadata": {
        "id": "view-in-github",
        "colab_type": "text"
      },
      "source": [
        "<a href=\"https://colab.research.google.com/github/LESRLUEN/Tarea04/blob/main/Tarea_04.ipynb\" target=\"_parent\"><img src=\"https://colab.research.google.com/assets/colab-badge.svg\" alt=\"Open In Colab\"/></a>"
      ]
    },
    {
      "cell_type": "code",
      "metadata": {
        "colab": {
          "base_uri": "https://localhost:8080/"
        },
        "id": "CENspVeVxrXM",
        "outputId": "b74d0a26-ebe4-4fe8-ae42-9fe2b93987a4"
      },
      "source": [
        "import math\n",
        "\n",
        "print(\"Programa que resuelve una ecuacion de segundo grado:\")\n",
        "print()\n",
        "print(\"por medio de la Formula General ( Chicharronera ) \")\n",
        "print()\n",
        "\n",
        "#coeficientes\n",
        "a, b, c = [float(input(f'Dame el coeficiente {coef}: ')) for coef in ('a', 'b', 'c')]\n",
        "\n",
        "#Calculo del determinante\n",
        "discriminante = b * b - 4 * a * c\n",
        "\n",
        "if discriminante < 0: #Comprobacion de existencia de soluciones reales\n",
        "    print(f'La ecuacion no tiene soluciones reales.')\n",
        "\n",
        "else:\n",
        "    raiz = math.sqrt(discriminante)\n",
        "    x_1 = (-b + raiz) / (2 * a)\n",
        "    if discriminante !=0:\n",
        "        x_2 = (-b - raiz) / (2 * a)\n",
        "        print(f'Las soluciones son {x_1} y {x_2}.')\n",
        "    else:\n",
        "        print(f'La unica solucion es x = {x_1}')"
      ],
      "execution_count": 17,
      "outputs": [
        {
          "output_type": "stream",
          "name": "stdout",
          "text": [
            "Programa que resuelve una ecuacion de segundo grado:\n",
            "\n",
            "por medio de la Formula General ( Chicharronera ) \n",
            "\n",
            "Dame el coeficiente a: 2.25\n",
            "Dame el coeficiente b: 1.5\n",
            "Dame el coeficiente c: -2\n",
            "Las soluciones son 0.6666666666666666 y -1.3333333333333333.\n"
          ]
        }
      ]
    }
  ]
}